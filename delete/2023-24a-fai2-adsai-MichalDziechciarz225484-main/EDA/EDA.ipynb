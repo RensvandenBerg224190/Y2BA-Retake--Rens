{
 "cells": [
  {
   "cell_type": "code",
   "execution_count": 1,
   "metadata": {
    "vscode": {
     "languageId": "r"
    }
   },
   "outputs": [],
   "source": [
    "# Specify your working directory goes here\n",
    "working_dir <- \"C:/BUAS repos/2023-24a-fai2-adsai-MichalDziechciarz225484/EDA\"\n",
    "setwd(working_dir) # Setting working directory\n"
   ]
  },
  {
   "cell_type": "code",
   "execution_count": 2,
   "metadata": {
    "vscode": {
     "languageId": "r"
    }
   },
   "outputs": [
    {
     "name": "stderr",
     "output_type": "stream",
     "text": [
      "Loading required package: dplyr\n",
      "\n"
     ]
    },
    {
     "name": "stderr",
     "output_type": "stream",
     "text": [
      "\n",
      "Attaching package: 'dplyr'\n",
      "\n",
      "\n",
      "The following objects are masked from 'package:stats':\n",
      "\n",
      "    filter, lag\n",
      "\n",
      "\n",
      "The following objects are masked from 'package:base':\n",
      "\n",
      "    intersect, setdiff, setequal, union\n",
      "\n",
      "\n",
      "Loading required package: readr\n",
      "\n",
      "Loading required package: data.table\n",
      "\n",
      "\n",
      "Attaching package: 'data.table'\n",
      "\n",
      "\n",
      "The following objects are masked from 'package:dplyr':\n",
      "\n",
      "    between, first, last\n",
      "\n",
      "\n",
      "Loading required package: ggplot2\n",
      "\n"
     ]
    }
   ],
   "source": [
    "## --Load Libraries-------------------------------------------------------------##\n",
    "require(\"dplyr\")\n",
    "require(\"readr\")\n",
    "require(\"data.table\")\n",
    "require(\"ggplot2\")\n",
    "# library(ggplot2)\n"
   ]
  },
  {
   "cell_type": "code",
   "execution_count": 3,
   "metadata": {
    "vscode": {
     "languageId": "r"
    }
   },
   "outputs": [
    {
     "name": "stderr",
     "output_type": "stream",
     "text": [
      "\u001b[1mRows: \u001b[22m\u001b[34m495\u001b[39m \u001b[1mColumns: \u001b[22m\u001b[34m419\u001b[39m\n",
      "\u001b[36m──\u001b[39m \u001b[1mColumn specification\u001b[22m \u001b[36m────────────────────────────────────────────────────────\u001b[39m\n",
      "\u001b[1mDelimiter:\u001b[22m \",\"\n",
      "\u001b[31mchr\u001b[39m (419): StartDate, EndDate, Status, Progress, Duration (in seconds), Fini...\n",
      "\n",
      "\u001b[36mℹ\u001b[39m Use `spec()` to retrieve the full column specification for this data.\n",
      "\u001b[36mℹ\u001b[39m Specify the column types or set `show_col_types = FALSE` to quiet this message.\n",
      "\u001b[1mRows: \u001b[22m\u001b[34m495\u001b[39m \u001b[1mColumns: \u001b[22m\u001b[34m419\u001b[39m\n",
      "\u001b[36m──\u001b[39m \u001b[1mColumn specification\u001b[22m \u001b[36m────────────────────────────────────────────────────────\u001b[39m\n",
      "\u001b[1mDelimiter:\u001b[22m \",\"\n",
      "\u001b[31mchr\u001b[39m (419): StartDate, EndDate, Status, Progress, Duration (in seconds), Fini...\n",
      "\n",
      "\u001b[36mℹ\u001b[39m Use `spec()` to retrieve the full column specification for this data.\n",
      "\u001b[36mℹ\u001b[39m Specify the column types or set `show_col_types = FALSE` to quiet this message.\n"
     ]
    }
   ],
   "source": [
    "## --Load Files -------------------------------------------------------------##\n",
    "data_dir <- paste0(working_dir, \"/data/\")\n",
    "\n",
    "numeric_data <- read_csv(paste0(data_dir, \"df_num_2023-10-22.csv\"))\n",
    "text_data <- read_csv(paste0(data_dir, \"df_text_2023-10-22.csv\"))\n"
   ]
  },
  {
   "cell_type": "code",
   "execution_count": 4,
   "metadata": {
    "vscode": {
     "languageId": "r"
    }
   },
   "outputs": [],
   "source": [
    "cleaned_data <- text_data[complete.cases(text_data), ]\n",
    "\n",
    "# Get all rows with demo_domain == \"Leisure & Events\"\n",
    "leisure_events <- text_data[text_data$demo_domain == \"Leisure & Events\" & !is.na(text_data$demo_domain), ]\n"
   ]
  },
  {
   "cell_type": "code",
   "execution_count": 5,
   "metadata": {
    "vscode": {
     "languageId": "r"
    }
   },
   "outputs": [],
   "source": [
    "# Read the values of the column and if all is NA, remove this entire column\n",
    "na_columns <- which(colSums(is.na(leisure_events)) == nrow(leisure_events))\n",
    "\n",
    "# Remove all columns with NA values\n",
    "leisure_events <- leisure_events[, -na_columns]\n"
   ]
  },
  {
   "cell_type": "code",
   "execution_count": 6,
   "metadata": {
    "vscode": {
     "languageId": "r"
    }
   },
   "outputs": [],
   "source": [
    "# Columns to exclude\n",
    "leisure_events <- leisure_events %>% select(-Q3.7:-Q10.9)\n",
    "\n",
    "leisure_events <- leisure_events %>% select(-G_awareness:-Q4.1)\n"
   ]
  },
  {
   "cell_type": "code",
   "execution_count": 7,
   "metadata": {
    "vscode": {
     "languageId": "r"
    }
   },
   "outputs": [
    {
     "data": {
      "text/html": [
       "<table class=\"dataframe\">\n",
       "<caption>A tibble: 5 × 45</caption>\n",
       "<thead>\n",
       "\t<tr><th scope=col>StartDate</th><th scope=col>EndDate</th><th scope=col>Status</th><th scope=col>Progress</th><th scope=col>Duration (in seconds)</th><th scope=col>Finished</th><th scope=col>RecordedDate</th><th scope=col>ResponseId</th><th scope=col>DistributionChannel</th><th scope=col>UserLanguage</th><th scope=col>⋯</th><th scope=col>acc_6</th><th scope=col>LE_acceptance</th><th scope=col>LE_ethicalconcern...76</th><th scope=col>LE_bias...77</th><th scope=col>LE_ethicalconcern...78</th><th scope=col>LE_transparency</th><th scope=col>LE_bias...80</th><th scope=col>LE_efficacy</th><th scope=col>LE_fairness</th><th scope=col>msc_ai_t</th></tr>\n",
       "\t<tr><th scope=col>&lt;chr&gt;</th><th scope=col>&lt;chr&gt;</th><th scope=col>&lt;chr&gt;</th><th scope=col>&lt;chr&gt;</th><th scope=col>&lt;chr&gt;</th><th scope=col>&lt;chr&gt;</th><th scope=col>&lt;chr&gt;</th><th scope=col>&lt;chr&gt;</th><th scope=col>&lt;chr&gt;</th><th scope=col>&lt;chr&gt;</th><th scope=col>⋯</th><th scope=col>&lt;chr&gt;</th><th scope=col>&lt;chr&gt;</th><th scope=col>&lt;chr&gt;</th><th scope=col>&lt;chr&gt;</th><th scope=col>&lt;chr&gt;</th><th scope=col>&lt;chr&gt;</th><th scope=col>&lt;chr&gt;</th><th scope=col>&lt;chr&gt;</th><th scope=col>&lt;chr&gt;</th><th scope=col>&lt;chr&gt;</th></tr>\n",
       "</thead>\n",
       "<tbody>\n",
       "\t<tr><td>2023-10-11 02:13:41</td><td>2023-10-11 02:17:14</td><td>IP Address</td><td>100</td><td>213</td><td>True</td><td>2023-10-11 02:17:15</td><td>R_24u9OCTLvSZ9eoU</td><td>qr</td><td>EN</td><td>⋯</td><td>Somewhat agree   </td><td>NA     </td><td>NA     </td><td>NA      </td><td>NA     </td><td>NA      </td><td>NA      </td><td>NA      </td><td>NA   </td><td>I would most likely not consider enrollment.</td></tr>\n",
       "\t<tr><td>2023-10-11 02:14:31</td><td>2023-10-11 02:18:35</td><td>IP Address</td><td>100</td><td>243</td><td>True</td><td>2023-10-11 02:18:36</td><td>R_1Ho7MHaPMj9wqyd</td><td>qr</td><td>EN</td><td>⋯</td><td>Somewhat agree   </td><td>Neutral</td><td>Agree  </td><td>Neutral </td><td>Neutral</td><td>Agree   </td><td>Disagree</td><td>Disagree</td><td>Agree</td><td>I don’t have an opinion yet.                </td></tr>\n",
       "\t<tr><td>2023-10-11 02:15:23</td><td>2023-10-11 02:26:20</td><td>IP Address</td><td>100</td><td>656</td><td>True</td><td>2023-10-11 02:26:21</td><td>R_2f6ycyHxakQ6nAU</td><td>qr</td><td>EN</td><td>⋯</td><td>Somewhat agree   </td><td>NA     </td><td>NA     </td><td>NA      </td><td>NA     </td><td>NA      </td><td>NA      </td><td>NA      </td><td>NA   </td><td>I don’t have an opinion yet.                </td></tr>\n",
       "\t<tr><td>2023-10-11 02:20:11</td><td>2023-10-11 02:34:52</td><td>IP Address</td><td>100</td><td>880</td><td>True</td><td>2023-10-11 02:34:53</td><td>R_2UVrMEKpmaYLrHU</td><td>qr</td><td>EN</td><td>⋯</td><td>Somewhat agree   </td><td>Agree  </td><td>Neutral</td><td>Disagree</td><td>Agree  </td><td>Disagree</td><td>Agree   </td><td>Agree   </td><td>Agree</td><td>I don’t have an opinion yet.                </td></tr>\n",
       "\t<tr><td>2023-10-11 02:31:06</td><td>2023-10-11 02:36:01</td><td>IP Address</td><td>100</td><td>295</td><td>True</td><td>2023-10-11 02:36:02</td><td>R_3JslnVTsmw3h7Ju</td><td>qr</td><td>EN</td><td>⋯</td><td>Strongly disagree</td><td>NA     </td><td>NA     </td><td>NA      </td><td>NA     </td><td>NA      </td><td>NA      </td><td>NA      </td><td>NA   </td><td>I would most likely not consider enrollment.</td></tr>\n",
       "</tbody>\n",
       "</table>\n"
      ],
      "text/latex": [
       "A tibble: 5 × 45\n",
       "\\begin{tabular}{lllllllllllllllllllll}\n",
       " StartDate & EndDate & Status & Progress & Duration (in seconds) & Finished & RecordedDate & ResponseId & DistributionChannel & UserLanguage & ⋯ & acc\\_6 & LE\\_acceptance & LE\\_ethicalconcern...76 & LE\\_bias...77 & LE\\_ethicalconcern...78 & LE\\_transparency & LE\\_bias...80 & LE\\_efficacy & LE\\_fairness & msc\\_ai\\_t\\\\\n",
       " <chr> & <chr> & <chr> & <chr> & <chr> & <chr> & <chr> & <chr> & <chr> & <chr> & ⋯ & <chr> & <chr> & <chr> & <chr> & <chr> & <chr> & <chr> & <chr> & <chr> & <chr>\\\\\n",
       "\\hline\n",
       "\t 2023-10-11 02:13:41 & 2023-10-11 02:17:14 & IP Address & 100 & 213 & True & 2023-10-11 02:17:15 & R\\_24u9OCTLvSZ9eoU & qr & EN & ⋯ & Somewhat agree    & NA      & NA      & NA       & NA      & NA       & NA       & NA       & NA    & I would most likely not consider enrollment.\\\\\n",
       "\t 2023-10-11 02:14:31 & 2023-10-11 02:18:35 & IP Address & 100 & 243 & True & 2023-10-11 02:18:36 & R\\_1Ho7MHaPMj9wqyd & qr & EN & ⋯ & Somewhat agree    & Neutral & Agree   & Neutral  & Neutral & Agree    & Disagree & Disagree & Agree & I don’t have an opinion yet.                \\\\\n",
       "\t 2023-10-11 02:15:23 & 2023-10-11 02:26:20 & IP Address & 100 & 656 & True & 2023-10-11 02:26:21 & R\\_2f6ycyHxakQ6nAU & qr & EN & ⋯ & Somewhat agree    & NA      & NA      & NA       & NA      & NA       & NA       & NA       & NA    & I don’t have an opinion yet.                \\\\\n",
       "\t 2023-10-11 02:20:11 & 2023-10-11 02:34:52 & IP Address & 100 & 880 & True & 2023-10-11 02:34:53 & R\\_2UVrMEKpmaYLrHU & qr & EN & ⋯ & Somewhat agree    & Agree   & Neutral & Disagree & Agree   & Disagree & Agree    & Agree    & Agree & I don’t have an opinion yet.                \\\\\n",
       "\t 2023-10-11 02:31:06 & 2023-10-11 02:36:01 & IP Address & 100 & 295 & True & 2023-10-11 02:36:02 & R\\_3JslnVTsmw3h7Ju & qr & EN & ⋯ & Strongly disagree & NA      & NA      & NA       & NA      & NA       & NA       & NA       & NA    & I would most likely not consider enrollment.\\\\\n",
       "\\end{tabular}\n"
      ],
      "text/markdown": [
       "\n",
       "A tibble: 5 × 45\n",
       "\n",
       "| StartDate &lt;chr&gt; | EndDate &lt;chr&gt; | Status &lt;chr&gt; | Progress &lt;chr&gt; | Duration (in seconds) &lt;chr&gt; | Finished &lt;chr&gt; | RecordedDate &lt;chr&gt; | ResponseId &lt;chr&gt; | DistributionChannel &lt;chr&gt; | UserLanguage &lt;chr&gt; | ⋯ ⋯ | acc_6 &lt;chr&gt; | LE_acceptance &lt;chr&gt; | LE_ethicalconcern...76 &lt;chr&gt; | LE_bias...77 &lt;chr&gt; | LE_ethicalconcern...78 &lt;chr&gt; | LE_transparency &lt;chr&gt; | LE_bias...80 &lt;chr&gt; | LE_efficacy &lt;chr&gt; | LE_fairness &lt;chr&gt; | msc_ai_t &lt;chr&gt; |\n",
       "|---|---|---|---|---|---|---|---|---|---|---|---|---|---|---|---|---|---|---|---|---|\n",
       "| 2023-10-11 02:13:41 | 2023-10-11 02:17:14 | IP Address | 100 | 213 | True | 2023-10-11 02:17:15 | R_24u9OCTLvSZ9eoU | qr | EN | ⋯ | Somewhat agree    | NA      | NA      | NA       | NA      | NA       | NA       | NA       | NA    | I would most likely not consider enrollment. |\n",
       "| 2023-10-11 02:14:31 | 2023-10-11 02:18:35 | IP Address | 100 | 243 | True | 2023-10-11 02:18:36 | R_1Ho7MHaPMj9wqyd | qr | EN | ⋯ | Somewhat agree    | Neutral | Agree   | Neutral  | Neutral | Agree    | Disagree | Disagree | Agree | I don’t have an opinion yet.                 |\n",
       "| 2023-10-11 02:15:23 | 2023-10-11 02:26:20 | IP Address | 100 | 656 | True | 2023-10-11 02:26:21 | R_2f6ycyHxakQ6nAU | qr | EN | ⋯ | Somewhat agree    | NA      | NA      | NA       | NA      | NA       | NA       | NA       | NA    | I don’t have an opinion yet.                 |\n",
       "| 2023-10-11 02:20:11 | 2023-10-11 02:34:52 | IP Address | 100 | 880 | True | 2023-10-11 02:34:53 | R_2UVrMEKpmaYLrHU | qr | EN | ⋯ | Somewhat agree    | Agree   | Neutral | Disagree | Agree   | Disagree | Agree    | Agree    | Agree | I don’t have an opinion yet.                 |\n",
       "| 2023-10-11 02:31:06 | 2023-10-11 02:36:01 | IP Address | 100 | 295 | True | 2023-10-11 02:36:02 | R_3JslnVTsmw3h7Ju | qr | EN | ⋯ | Strongly disagree | NA      | NA      | NA       | NA      | NA       | NA       | NA       | NA    | I would most likely not consider enrollment. |\n",
       "\n"
      ],
      "text/plain": [
       "  StartDate           EndDate             Status     Progress\n",
       "1 2023-10-11 02:13:41 2023-10-11 02:17:14 IP Address 100     \n",
       "2 2023-10-11 02:14:31 2023-10-11 02:18:35 IP Address 100     \n",
       "3 2023-10-11 02:15:23 2023-10-11 02:26:20 IP Address 100     \n",
       "4 2023-10-11 02:20:11 2023-10-11 02:34:52 IP Address 100     \n",
       "5 2023-10-11 02:31:06 2023-10-11 02:36:01 IP Address 100     \n",
       "  Duration (in seconds) Finished RecordedDate        ResponseId       \n",
       "1 213                   True     2023-10-11 02:17:15 R_24u9OCTLvSZ9eoU\n",
       "2 243                   True     2023-10-11 02:18:36 R_1Ho7MHaPMj9wqyd\n",
       "3 656                   True     2023-10-11 02:26:21 R_2f6ycyHxakQ6nAU\n",
       "4 880                   True     2023-10-11 02:34:53 R_2UVrMEKpmaYLrHU\n",
       "5 295                   True     2023-10-11 02:36:02 R_3JslnVTsmw3h7Ju\n",
       "  DistributionChannel UserLanguage ⋯ acc_6             LE_acceptance\n",
       "1 qr                  EN           ⋯ Somewhat agree    NA           \n",
       "2 qr                  EN           ⋯ Somewhat agree    Neutral      \n",
       "3 qr                  EN           ⋯ Somewhat agree    NA           \n",
       "4 qr                  EN           ⋯ Somewhat agree    Agree        \n",
       "5 qr                  EN           ⋯ Strongly disagree NA           \n",
       "  LE_ethicalconcern...76 LE_bias...77 LE_ethicalconcern...78 LE_transparency\n",
       "1 NA                     NA           NA                     NA             \n",
       "2 Agree                  Neutral      Neutral                Agree          \n",
       "3 NA                     NA           NA                     NA             \n",
       "4 Neutral                Disagree     Agree                  Disagree       \n",
       "5 NA                     NA           NA                     NA             \n",
       "  LE_bias...80 LE_efficacy LE_fairness\n",
       "1 NA           NA          NA         \n",
       "2 Disagree     Disagree    Agree      \n",
       "3 NA           NA          NA         \n",
       "4 Agree        Agree       Agree      \n",
       "5 NA           NA          NA         \n",
       "  msc_ai_t                                    \n",
       "1 I would most likely not consider enrollment.\n",
       "2 I don’t have an opinion yet.                \n",
       "3 I don’t have an opinion yet.                \n",
       "4 I don’t have an opinion yet.                \n",
       "5 I would most likely not consider enrollment."
      ]
     },
     "metadata": {},
     "output_type": "display_data"
    }
   ],
   "source": [
    "# settings to visualize all the columns\n",
    "head(leisure_events, 5)\n"
   ]
  },
  {
   "cell_type": "code",
   "execution_count": 8,
   "metadata": {
    "vscode": {
     "languageId": "r"
    }
   },
   "outputs": [
    {
     "data": {
      "text/html": [
       "<style>\n",
       ".list-inline {list-style: none; margin:0; padding: 0}\n",
       ".list-inline>li {display: inline-block}\n",
       ".list-inline>li:not(:last-child)::after {content: \"\\00b7\"; padding: 0 .5ex}\n",
       "</style>\n",
       "<ol class=list-inline><li>'StartDate'</li><li>'EndDate'</li><li>'Status'</li><li>'Progress'</li><li>'Duration (in seconds)'</li><li>'Finished'</li><li>'RecordedDate'</li><li>'ResponseId'</li><li>'DistributionChannel'</li><li>'UserLanguage'</li><li>'Q2.2'</li><li>'demo_role'</li><li>'demo_gender'</li><li>'demo_age'</li><li>'demo_domain'</li><li>'demo_year_study'</li><li>'demo_experience'</li><li>'demo_ai_know'</li><li>'ml_dl_famil'</li><li>'aware_dom'</li><li>'ai_courses'</li><li>'aware_everyday'</li><li>'used_ai'</li><li>'att_pos_1'</li><li>'att_pos_2'</li><li>'att_pos_3'</li><li>'att_pos_4'</li><li>'att_neg_1'</li><li>'att_neg_2'</li><li>'att_neg_3'</li><li>'acc_1'</li><li>'acc_2'</li><li>'acc_3'</li><li>'acc_4'</li><li>'acc_5'</li><li>'acc_6'</li><li>'LE_acceptance'</li><li>'LE_ethicalconcern...76'</li><li>'LE_bias...77'</li><li>'LE_ethicalconcern...78'</li><li>'LE_transparency'</li><li>'LE_bias...80'</li><li>'LE_efficacy'</li><li>'LE_fairness'</li><li>'msc_ai_t'</li></ol>\n"
      ],
      "text/latex": [
       "\\begin{enumerate*}\n",
       "\\item 'StartDate'\n",
       "\\item 'EndDate'\n",
       "\\item 'Status'\n",
       "\\item 'Progress'\n",
       "\\item 'Duration (in seconds)'\n",
       "\\item 'Finished'\n",
       "\\item 'RecordedDate'\n",
       "\\item 'ResponseId'\n",
       "\\item 'DistributionChannel'\n",
       "\\item 'UserLanguage'\n",
       "\\item 'Q2.2'\n",
       "\\item 'demo\\_role'\n",
       "\\item 'demo\\_gender'\n",
       "\\item 'demo\\_age'\n",
       "\\item 'demo\\_domain'\n",
       "\\item 'demo\\_year\\_study'\n",
       "\\item 'demo\\_experience'\n",
       "\\item 'demo\\_ai\\_know'\n",
       "\\item 'ml\\_dl\\_famil'\n",
       "\\item 'aware\\_dom'\n",
       "\\item 'ai\\_courses'\n",
       "\\item 'aware\\_everyday'\n",
       "\\item 'used\\_ai'\n",
       "\\item 'att\\_pos\\_1'\n",
       "\\item 'att\\_pos\\_2'\n",
       "\\item 'att\\_pos\\_3'\n",
       "\\item 'att\\_pos\\_4'\n",
       "\\item 'att\\_neg\\_1'\n",
       "\\item 'att\\_neg\\_2'\n",
       "\\item 'att\\_neg\\_3'\n",
       "\\item 'acc\\_1'\n",
       "\\item 'acc\\_2'\n",
       "\\item 'acc\\_3'\n",
       "\\item 'acc\\_4'\n",
       "\\item 'acc\\_5'\n",
       "\\item 'acc\\_6'\n",
       "\\item 'LE\\_acceptance'\n",
       "\\item 'LE\\_ethicalconcern...76'\n",
       "\\item 'LE\\_bias...77'\n",
       "\\item 'LE\\_ethicalconcern...78'\n",
       "\\item 'LE\\_transparency'\n",
       "\\item 'LE\\_bias...80'\n",
       "\\item 'LE\\_efficacy'\n",
       "\\item 'LE\\_fairness'\n",
       "\\item 'msc\\_ai\\_t'\n",
       "\\end{enumerate*}\n"
      ],
      "text/markdown": [
       "1. 'StartDate'\n",
       "2. 'EndDate'\n",
       "3. 'Status'\n",
       "4. 'Progress'\n",
       "5. 'Duration (in seconds)'\n",
       "6. 'Finished'\n",
       "7. 'RecordedDate'\n",
       "8. 'ResponseId'\n",
       "9. 'DistributionChannel'\n",
       "10. 'UserLanguage'\n",
       "11. 'Q2.2'\n",
       "12. 'demo_role'\n",
       "13. 'demo_gender'\n",
       "14. 'demo_age'\n",
       "15. 'demo_domain'\n",
       "16. 'demo_year_study'\n",
       "17. 'demo_experience'\n",
       "18. 'demo_ai_know'\n",
       "19. 'ml_dl_famil'\n",
       "20. 'aware_dom'\n",
       "21. 'ai_courses'\n",
       "22. 'aware_everyday'\n",
       "23. 'used_ai'\n",
       "24. 'att_pos_1'\n",
       "25. 'att_pos_2'\n",
       "26. 'att_pos_3'\n",
       "27. 'att_pos_4'\n",
       "28. 'att_neg_1'\n",
       "29. 'att_neg_2'\n",
       "30. 'att_neg_3'\n",
       "31. 'acc_1'\n",
       "32. 'acc_2'\n",
       "33. 'acc_3'\n",
       "34. 'acc_4'\n",
       "35. 'acc_5'\n",
       "36. 'acc_6'\n",
       "37. 'LE_acceptance'\n",
       "38. 'LE_ethicalconcern...76'\n",
       "39. 'LE_bias...77'\n",
       "40. 'LE_ethicalconcern...78'\n",
       "41. 'LE_transparency'\n",
       "42. 'LE_bias...80'\n",
       "43. 'LE_efficacy'\n",
       "44. 'LE_fairness'\n",
       "45. 'msc_ai_t'\n",
       "\n",
       "\n"
      ],
      "text/plain": [
       " [1] \"StartDate\"              \"EndDate\"                \"Status\"                \n",
       " [4] \"Progress\"               \"Duration (in seconds)\"  \"Finished\"              \n",
       " [7] \"RecordedDate\"           \"ResponseId\"             \"DistributionChannel\"   \n",
       "[10] \"UserLanguage\"           \"Q2.2\"                   \"demo_role\"             \n",
       "[13] \"demo_gender\"            \"demo_age\"               \"demo_domain\"           \n",
       "[16] \"demo_year_study\"        \"demo_experience\"        \"demo_ai_know\"          \n",
       "[19] \"ml_dl_famil\"            \"aware_dom\"              \"ai_courses\"            \n",
       "[22] \"aware_everyday\"         \"used_ai\"                \"att_pos_1\"             \n",
       "[25] \"att_pos_2\"              \"att_pos_3\"              \"att_pos_4\"             \n",
       "[28] \"att_neg_1\"              \"att_neg_2\"              \"att_neg_3\"             \n",
       "[31] \"acc_1\"                  \"acc_2\"                  \"acc_3\"                 \n",
       "[34] \"acc_4\"                  \"acc_5\"                  \"acc_6\"                 \n",
       "[37] \"LE_acceptance\"          \"LE_ethicalconcern...76\" \"LE_bias...77\"          \n",
       "[40] \"LE_ethicalconcern...78\" \"LE_transparency\"        \"LE_bias...80\"          \n",
       "[43] \"LE_efficacy\"            \"LE_fairness\"            \"msc_ai_t\"              "
      ]
     },
     "metadata": {},
     "output_type": "display_data"
    }
   ],
   "source": [
    "# show all the column names\n",
    "names(leisure_events)\n"
   ]
  },
  {
   "cell_type": "code",
   "execution_count": 9,
   "metadata": {
    "vscode": {
     "languageId": "r"
    }
   },
   "outputs": [
    {
     "data": {
      "text/html": [
       "186697"
      ],
      "text/latex": [
       "186697"
      ],
      "text/markdown": [
       "186697"
      ],
      "text/plain": [
       "[1] 186697"
      ]
     },
     "metadata": {},
     "output_type": "display_data"
    }
   ],
   "source": [
    "# Check for missing values\n",
    "sum(is.na(text_data))\n"
   ]
  },
  {
   "cell_type": "code",
   "execution_count": 10,
   "metadata": {
    "vscode": {
     "languageId": "r"
    }
   },
   "outputs": [
    {
     "name": "stdout",
     "output_type": "stream",
     "text": [
      "[1] 56\n"
     ]
    }
   ],
   "source": [
    "# Assuming your dataframe is 'text_data'\n",
    "count <- sum(leisure_events$demo_domain == \"Leisure & Events\")\n",
    "\n",
    "\n",
    "# Print the count\n",
    "print(count)\n"
   ]
  },
  {
   "cell_type": "code",
   "execution_count": 11,
   "metadata": {
    "vscode": {
     "languageId": "r"
    }
   },
   "outputs": [
    {
     "data": {
      "text/html": [
       "<style>\n",
       ".list-inline {list-style: none; margin:0; padding: 0}\n",
       ".list-inline>li {display: inline-block}\n",
       ".list-inline>li:not(:last-child)::after {content: \"\\00b7\"; padding: 0 .5ex}\n",
       "</style>\n",
       "<ol class=list-inline><li>'What is your role?'</li><li>'{\"ImportId\":\"QID443\"}'</li><li>'Educator'</li><li>'Student'</li><li>NA</li><li>'Supporting Staff'</li><li>'Management'</li><li>'Other Staff'</li></ol>\n"
      ],
      "text/latex": [
       "\\begin{enumerate*}\n",
       "\\item 'What is your role?'\n",
       "\\item '\\{\"ImportId\":\"QID443\"\\}'\n",
       "\\item 'Educator'\n",
       "\\item 'Student'\n",
       "\\item NA\n",
       "\\item 'Supporting Staff'\n",
       "\\item 'Management'\n",
       "\\item 'Other Staff'\n",
       "\\end{enumerate*}\n"
      ],
      "text/markdown": [
       "1. 'What is your role?'\n",
       "2. '{\"ImportId\":\"QID443\"}'\n",
       "3. 'Educator'\n",
       "4. 'Student'\n",
       "5. NA\n",
       "6. 'Supporting Staff'\n",
       "7. 'Management'\n",
       "8. 'Other Staff'\n",
       "\n",
       "\n"
      ],
      "text/plain": [
       "[1] \"What is your role?\"        \"{\\\"ImportId\\\":\\\"QID443\\\"}\"\n",
       "[3] \"Educator\"                  \"Student\"                  \n",
       "[5] NA                          \"Supporting Staff\"         \n",
       "[7] \"Management\"                \"Other Staff\"              "
      ]
     },
     "metadata": {},
     "output_type": "display_data"
    },
    {
     "name": "stdout",
     "output_type": "stream",
     "text": [
      "Students:  352 \n",
      "Staff:  72 \n"
     ]
    }
   ],
   "source": [
    "unique(text_data$demo_role)\n",
    "\n",
    "# Count students\n",
    "count_students <- sum(text_data$demo_role == \"Student\", na.rm = TRUE)\n",
    "\n",
    "# Count staff (educator, supporting staff, and management)\n",
    "count_staff <- sum(text_data$demo_role %in% c(\"Educator\", \"Supporting Staff\", \"Management\"), na.rm = TRUE)\n",
    "\n",
    "# Print the counts\n",
    "cat(\"Students: \", count_students, \"\\n\")\n",
    "cat(\"Staff: \", count_staff, \"\\n\")\n"
   ]
  },
  {
   "cell_type": "code",
   "execution_count": 12,
   "metadata": {
    "vscode": {
     "languageId": "r"
    }
   },
   "outputs": [
    {
     "data": {
      "text/html": [
       "<style>\n",
       ".list-inline {list-style: none; margin:0; padding: 0}\n",
       ".list-inline>li {display: inline-block}\n",
       ".list-inline>li:not(:last-child)::after {content: \"\\00b7\"; padding: 0 .5ex}\n",
       "</style>\n",
       "<ol class=list-inline><li>'What gender do you identify as?'</li><li>'{\"ImportId\":\"QID6\"}'</li><li>'Male'</li><li>'Female'</li><li>'Prefer not to say'</li><li>NA</li><li>'Non-binary / third gender'</li></ol>\n"
      ],
      "text/latex": [
       "\\begin{enumerate*}\n",
       "\\item 'What gender do you identify as?'\n",
       "\\item '\\{\"ImportId\":\"QID6\"\\}'\n",
       "\\item 'Male'\n",
       "\\item 'Female'\n",
       "\\item 'Prefer not to say'\n",
       "\\item NA\n",
       "\\item 'Non-binary / third gender'\n",
       "\\end{enumerate*}\n"
      ],
      "text/markdown": [
       "1. 'What gender do you identify as?'\n",
       "2. '{\"ImportId\":\"QID6\"}'\n",
       "3. 'Male'\n",
       "4. 'Female'\n",
       "5. 'Prefer not to say'\n",
       "6. NA\n",
       "7. 'Non-binary / third gender'\n",
       "\n",
       "\n"
      ],
      "text/plain": [
       "[1] \"What gender do you identify as?\" \"{\\\"ImportId\\\":\\\"QID6\\\"}\"        \n",
       "[3] \"Male\"                            \"Female\"                         \n",
       "[5] \"Prefer not to say\"               NA                               \n",
       "[7] \"Non-binary / third gender\"      "
      ]
     },
     "metadata": {},
     "output_type": "display_data"
    },
    {
     "name": "stdout",
     "output_type": "stream",
     "text": [
      "Male:  157 \n",
      "Female:  255 \n",
      "Prefer not to say:  2 \n",
      "Third gender:  3 \n"
     ]
    }
   ],
   "source": [
    "unique(text_data$demo_gender)\n",
    "\n",
    "# Count the number of participants for each gender category\n",
    "count_male <- sum(text_data$demo_gender == \"Male\", na.rm = TRUE)\n",
    "count_female <- sum(text_data$demo_gender == \"Female\", na.rm = TRUE)\n",
    "count_prefer_not_to_say <- sum(text_data$demo_gender == \"Prefer not to say\", na.rm = TRUE)\n",
    "count_third_gender <- sum(text_data$demo_gender == \"Non-binary / third gender\", na.rm = TRUE)\n",
    "\n",
    "# Print the counts\n",
    "cat(\"Male: \", count_male, \"\\n\")\n",
    "cat(\"Female: \", count_female, \"\\n\")\n",
    "cat(\"Prefer not to say: \", count_prefer_not_to_say, \"\\n\")\n",
    "cat(\"Third gender: \", count_third_gender, \"\\n\")\n"
   ]
  },
  {
   "cell_type": "markdown",
   "metadata": {},
   "source": [
    "# Acceptance analysis\n"
   ]
  },
  {
   "cell_type": "markdown",
   "metadata": {},
   "source": [
    "### acc_1\n",
    "\n",
    "I intend to use AI to automate repetitive tasks\n"
   ]
  },
  {
   "cell_type": "code",
   "execution_count": 13,
   "metadata": {
    "vscode": {
     "languageId": "r"
    }
   },
   "outputs": [
    {
     "name": "stderr",
     "output_type": "stream",
     "text": [
      "Warning message:\n",
      "\"\u001b[1m\u001b[22mThe dot-dot notation (`..count..`) was deprecated in ggplot2 3.4.0.\n",
      "\u001b[36mℹ\u001b[39m Please use `after_stat(count)` instead.\"\n"
     ]
    },
    {
     "data": {
      "image/png": "[encoded data removed]",
      "text/plain": [
       "plot without title"
      ]
     },
     "metadata": {
      "image/png": {
       "height": 420,
       "width": 420
      }
     },
     "output_type": "display_data"
    }
   ],
   "source": [
    "# Replaace missing values with \"Neither agree nor disagree\"\n",
    "leisure_events$acc_1 <- ifelse(is.na(leisure_events$acc_1), \"Neither agree nor disagree\", leisure_events$acc_1)\n",
    "\n",
    "colors <- c(\"darkred\", \"indianred\", \"lightgrey\", \"lightgreen\", \"darkgreen\")\n",
    "names(colors) <- c(\"Strongly disagree\", \"Somewhat disagree\", \"Neither agree nor disagree\", \"Somewhat agree\", \"Strongly agree\")\n",
    "\n",
    "# Reorder the response variable levels\n",
    "leisure_events$acc_1 <- factor(leisure_events$acc_1, levels = c(\"Strongly disagree\", \"Somewhat disagree\", \"Neither agree nor disagree\", \"Somewhat agree\", \"Strongly agree\"))\n",
    "\n",
    "\n",
    "\n",
    "\n",
    "# Create a bar plot using ggplot2\n",
    "ggplot(leisure_events, aes(x = acc_1, fill = acc_1)) +\n",
    "  geom_bar() +\n",
    "  scale_fill_manual(values = colors) +\n",
    "  geom_text(stat = \"count\", aes(label = ..count..), vjust = -0.5) +\n",
    "  labs(\n",
    "    title = \"I intend to use AI to automate repetitive tasks\",\n",
    "    x = \"Response\",\n",
    "    y = \"Percentage\"\n",
    "  ) +\n",
    "  theme(axis.text.x = element_text(angle = 45, hjust = 1))\n"
   ]
  },
  {
   "cell_type": "markdown",
   "metadata": {},
   "source": [
    "### acc_2\n",
    "\n",
    "I intend to use AI to assist me with creative tasks\n"
   ]
  },
  {
   "cell_type": "code",
   "execution_count": 14,
   "metadata": {
    "vscode": {
     "languageId": "r"
    }
   },
   "outputs": [
    {
     "data": {
      "image/png": "[encoded data removed]",
      "text/plain": [
       "plot without title"
      ]
     },
     "metadata": {
      "image/png": {
       "height": 420,
       "width": 420
      }
     },
     "output_type": "display_data"
    }
   ],
   "source": [
    "# Replaace missing values with \"Neither agree nor disagree\"\n",
    "leisure_events$acc_2 <- ifelse(is.na(leisure_events$acc_2), \"Neither agree nor disagree\", leisure_events$acc_2)\n",
    "\n",
    "colors <- c(\"darkred\", \"indianred\", \"lightgrey\", \"lightgreen\", \"darkgreen\")\n",
    "names(colors) <- c(\"Strongly disagree\", \"Somewhat disagree\", \"Neither agree nor disagree\", \"Somewhat agree\", \"Strongly agree\")\n",
    "\n",
    "# Reorder the response variable levels\n",
    "leisure_events$acc_2 <- factor(leisure_events$acc_2, levels = c(\"Strongly disagree\", \"Somewhat disagree\", \"Neither agree nor disagree\", \"Somewhat agree\", \"Strongly agree\"))\n",
    "\n",
    "\n",
    "\n",
    "\n",
    "# Create a bar plot using ggplot2\n",
    "ggplot(leisure_events, aes(x = acc_2, fill = acc_2)) +\n",
    "  geom_bar() +\n",
    "  scale_fill_manual(values = colors) +\n",
    "  geom_text(stat = \"count\", aes(label = ..count..), vjust = -0.5) +\n",
    "  labs(\n",
    "    title = \"I intend to use AI to assist me with creative tasks\",\n",
    "    x = \"Response\",\n",
    "    y = \"Percentage\"\n",
    "  ) +\n",
    "  theme(axis.text.x = element_text(angle = 45, hjust = 1))\n"
   ]
  },
  {
   "cell_type": "markdown",
   "metadata": {},
   "source": [
    "### acc_3\n",
    "\n",
    "I intend to use AI in my learning activities\n"
   ]
  },
  {
   "cell_type": "code",
   "execution_count": 15,
   "metadata": {
    "vscode": {
     "languageId": "r"
    }
   },
   "outputs": [
    {
     "data": {
      "image/png": "[encoded data removed]",
      "text/plain": [
       "plot without title"
      ]
     },
     "metadata": {
      "image/png": {
       "height": 420,
       "width": 420
      }
     },
     "output_type": "display_data"
    }
   ],
   "source": [
    "# Replaace missing values with \"Neither agree nor disagree\"\n",
    "leisure_events$acc_3 <- ifelse(is.na(leisure_events$acc_3), \"Neither agree nor disagree\", leisure_events$acc_3)\n",
    "\n",
    "colors <- c(\"darkred\", \"indianred\", \"lightgrey\", \"lightgreen\", \"darkgreen\")\n",
    "names(colors) <- c(\"Strongly disagree\", \"Somewhat disagree\", \"Neither agree nor disagree\", \"Somewhat agree\", \"Strongly agree\")\n",
    "\n",
    "# Reorder the response variable levels\n",
    "leisure_events$acc_3 <- factor(leisure_events$acc_3, levels = c(\"Strongly disagree\", \"Somewhat disagree\", \"Neither agree nor disagree\", \"Somewhat agree\", \"Strongly agree\"))\n",
    "\n",
    "\n",
    "\n",
    "\n",
    "# Create a bar plot using ggplot2\n",
    "ggplot(leisure_events, aes(x = acc_3, fill = acc_3)) +\n",
    "  geom_bar() +\n",
    "  scale_fill_manual(values = colors) +\n",
    "  geom_text(stat = \"count\", aes(label = ..count..), vjust = -0.5) +\n",
    "  labs(\n",
    "    title = \"I intend to use AI in my learning activities\",\n",
    "    x = \"Response\",\n",
    "    y = \"Percentage\"\n",
    "  ) +\n",
    "  theme(axis.text.x = element_text(angle = 45, hjust = 1))\n"
   ]
  },
  {
   "cell_type": "markdown",
   "metadata": {},
   "source": [
    "### acc_4\n",
    "\n",
    "I intend to stay informed about emerging AI technologies\n"
   ]
  },
  {
   "cell_type": "code",
   "execution_count": 16,
   "metadata": {
    "vscode": {
     "languageId": "r"
    }
   },
   "outputs": [
    {
     "data": {
      "image/png": "[encoded data removed]",
      "text/plain": [
       "plot without title"
      ]
     },
     "metadata": {
      "image/png": {
       "height": 420,
       "width": 420
      }
     },
     "output_type": "display_data"
    }
   ],
   "source": [
    "# Replaace missing values with \"Neither agree nor disagree\"\n",
    "leisure_events$acc_4 <- ifelse(is.na(leisure_events$acc_4), \"Neither agree nor disagree\", leisure_events$acc_4)\n",
    "\n",
    "colors <- c(\"darkred\", \"indianred\", \"lightgrey\", \"lightgreen\", \"darkgreen\")\n",
    "names(colors) <- c(\"Strongly disagree\", \"Somewhat disagree\", \"Neither agree nor disagree\", \"Somewhat agree\", \"Strongly agree\")\n",
    "\n",
    "# Reorder the response variable levels\n",
    "leisure_events$acc_4 <- factor(leisure_events$acc_4, levels = c(\"Strongly disagree\", \"Somewhat disagree\", \"Neither agree nor disagree\", \"Somewhat agree\", \"Strongly agree\"))\n",
    "\n",
    "\n",
    "\n",
    "\n",
    "# Create a bar plot using ggplot2\n",
    "ggplot(leisure_events, aes(x = acc_4, fill = acc_4)) +\n",
    "  geom_bar() +\n",
    "  scale_fill_manual(values = colors) +\n",
    "  geom_text(stat = \"count\", aes(label = ..count..), vjust = -0.5) +\n",
    "  labs(\n",
    "    title = \"I intend to stay informed about emerging AI technologies\",\n",
    "    x = \"Response\",\n",
    "    y = \"Percentage\"\n",
    "  ) +\n",
    "  theme(axis.text.x = element_text(angle = 45, hjust = 1))\n"
   ]
  },
  {
   "cell_type": "markdown",
   "metadata": {},
   "source": [
    "### acc_5\n",
    "\n",
    "I intend to incorporate AI into my workflow\n"
   ]
  },
  {
   "cell_type": "code",
   "execution_count": 17,
   "metadata": {
    "vscode": {
     "languageId": "r"
    }
   },
   "outputs": [
    {
     "data": {
      "image/png": "[encoded data removed]",
      "text/plain": [
       "plot without title"
      ]
     },
     "metadata": {
      "image/png": {
       "height": 420,
       "width": 420
      }
     },
     "output_type": "display_data"
    }
   ],
   "source": [
    "# Replaace missing values with \"Neither agree nor disagree\"\n",
    "leisure_events$acc_5 <- ifelse(is.na(leisure_events$acc_5), \"Neither agree nor disagree\", leisure_events$acc_5)\n",
    "\n",
    "colors <- c(\"darkred\", \"indianred\", \"lightgrey\", \"lightgreen\", \"darkgreen\")\n",
    "names(colors) <- c(\"Strongly disagree\", \"Somewhat disagree\", \"Neither agree nor disagree\", \"Somewhat agree\", \"Strongly agree\")\n",
    "\n",
    "# Reorder the response variable levels\n",
    "leisure_events$acc_5 <- factor(leisure_events$acc_5, levels = c(\"Strongly disagree\", \"Somewhat disagree\", \"Neither agree nor disagree\", \"Somewhat agree\", \"Strongly agree\"))\n",
    "\n",
    "\n",
    "\n",
    "\n",
    "# Create a bar plot using ggplot2\n",
    "ggplot(leisure_events, aes(x = acc_5, fill = acc_5)) +\n",
    "  geom_bar() +\n",
    "  scale_fill_manual(values = colors) +\n",
    "  geom_text(stat = \"count\", aes(label = ..count..), vjust = -0.5) +\n",
    "  labs(\n",
    "    title = \"I intend to incorporate AI into my workflow\",\n",
    "    x = \"Response\",\n",
    "    y = \"Percentage\"\n",
    "  ) +\n",
    "  theme(axis.text.x = element_text(angle = 45, hjust = 1))\n"
   ]
  },
  {
   "cell_type": "markdown",
   "metadata": {},
   "source": [
    "### acc_6\n",
    "\n",
    "I intend to work with AI in my future career\n"
   ]
  },
  {
   "cell_type": "code",
   "execution_count": 18,
   "metadata": {
    "vscode": {
     "languageId": "r"
    }
   },
   "outputs": [
    {
     "data": {
      "image/png": "[encoded data removed]",
      "text/plain": [
       "plot without title"
      ]
     },
     "metadata": {
      "image/png": {
       "height": 420,
       "width": 420
      }
     },
     "output_type": "display_data"
    }
   ],
   "source": [
    "# Replaace missing values with \"Neither agree nor disagree\"\n",
    "leisure_events$acc_6 <- ifelse(is.na(leisure_events$acc_6), \"Neither agree nor disagree\", leisure_events$acc_6)\n",
    "\n",
    "colors <- c(\"darkred\", \"indianred\", \"lightgrey\", \"lightgreen\", \"darkgreen\")\n",
    "names(colors) <- c(\"Strongly disagree\", \"Somewhat disagree\", \"Neither agree nor disagree\", \"Somewhat agree\", \"Strongly agree\")\n",
    "\n",
    "# Reorder the response variable levels\n",
    "leisure_events$acc_6 <- factor(leisure_events$acc_6, levels = c(\"Strongly disagree\", \"Somewhat disagree\", \"Neither agree nor disagree\", \"Somewhat agree\", \"Strongly agree\"))\n",
    "\n",
    "\n",
    "\n",
    "\n",
    "# Create a bar plot using ggplot2\n",
    "ggplot(leisure_events, aes(x = acc_6, fill = acc_6)) +\n",
    "  geom_bar() +\n",
    "  scale_fill_manual(values = colors) +\n",
    "  geom_text(stat = \"count\", aes(label = ..count..), vjust = -0.5) +\n",
    "  labs(\n",
    "    title = \"I intend to incorporate AI into my workflow\",\n",
    "    x = \"Response\",\n",
    "    y = \"Percentage\"\n",
    "  ) +\n",
    "  theme(axis.text.x = element_text(angle = 45, hjust = 1))\n"
   ]
  }
 ],
 "metadata": {
  "kernelspec": {
   "display_name": "R",
   "language": "R",
   "name": "ir"
  },
  "language_info": {
   "codemirror_mode": "r",
   "file_extension": ".r",
   "mimetype": "text/x-r-source",
   "name": "R",
   "pygments_lexer": "r",
   "version": "4.3.1"
  },
  "orig_nbformat": 4
 },
 "nbformat": 4,
 "nbformat_minor": 2
}
