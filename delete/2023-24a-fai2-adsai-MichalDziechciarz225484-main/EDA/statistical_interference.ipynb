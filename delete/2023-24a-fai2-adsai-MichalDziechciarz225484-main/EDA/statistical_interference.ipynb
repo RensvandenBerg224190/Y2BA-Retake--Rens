{
 "cells": [
  {
   "cell_type": "code",
   "execution_count": 1,
   "metadata": {
    "vscode": {
     "languageId": "r"
    }
   },
   "outputs": [],
   "source": [
    "# Specify your working directory goes here\n",
    "working_dir <- \"C:/BUAS repos/2023-24a-fai2-adsai-MichalDziechciarz225484/EDA\"\n",
    "setwd(working_dir) # Setting working directory\n"
   ]
  },
  {
   "cell_type": "code",
   "execution_count": 2,
   "metadata": {
    "vscode": {
     "languageId": "r"
    }
   },
   "outputs": [
    {
     "name": "stderr",
     "output_type": "stream",
     "text": [
      "Loading required package: dplyr\n",
      "\n",
      "\n",
      "Attaching package: 'dplyr'\n",
      "\n",
      "\n",
      "The following objects are masked from 'package:stats':\n",
      "\n",
      "    filter, lag\n",
      "\n",
      "\n",
      "The following objects are masked from 'package:base':\n",
      "\n",
      "    intersect, setdiff, setequal, union\n",
      "\n",
      "\n",
      "Loading required package: readr\n",
      "\n",
      "Loading required package: data.table\n",
      "\n",
      "\n",
      "Attaching package: 'data.table'\n",
      "\n",
      "\n",
      "The following objects are masked from 'package:dplyr':\n",
      "\n",
      "    between, first, last\n",
      "\n",
      "\n",
      "Loading required package: ggplot2\n",
      "\n"
     ]
    }
   ],
   "source": [
    "## --Load Libraries-------------------------------------------------------------##\n",
    "require(\"dplyr\")\n",
    "require(\"readr\")\n",
    "require(\"data.table\")\n",
    "require(\"ggplot2\")\n"
   ]
  },
  {
   "cell_type": "code",
   "execution_count": 3,
   "metadata": {
    "vscode": {
     "languageId": "r"
    }
   },
   "outputs": [
    {
     "name": "stderr",
     "output_type": "stream",
     "text": [
      "\u001b[1mRows: \u001b[22m\u001b[34m588\u001b[39m \u001b[1mColumns: \u001b[22m\u001b[34m419\u001b[39m\n",
      "\u001b[36m──\u001b[39m \u001b[1mColumn specification\u001b[22m \u001b[36m────────────────────────────────────────────────────────\u001b[39m\n",
      "\u001b[1mDelimiter:\u001b[22m \",\"\n",
      "\u001b[31mchr\u001b[39m (419): StartDate, EndDate, Status, Progress, Duration (in seconds), Fini...\n",
      "\n",
      "\u001b[36mℹ\u001b[39m Use `spec()` to retrieve the full column specification for this data.\n",
      "\u001b[36mℹ\u001b[39m Specify the column types or set `show_col_types = FALSE` to quiet this message.\n",
      "\u001b[1mRows: \u001b[22m\u001b[34m588\u001b[39m \u001b[1mColumns: \u001b[22m\u001b[34m419\u001b[39m\n",
      "\u001b[36m──\u001b[39m \u001b[1mColumn specification\u001b[22m \u001b[36m────────────────────────────────────────────────────────\u001b[39m\n",
      "\u001b[1mDelimiter:\u001b[22m \",\"\n",
      "\u001b[31mchr\u001b[39m (419): StartDate, EndDate, Status, Progress, Duration (in seconds), Fini...\n",
      "\n",
      "\u001b[36mℹ\u001b[39m Use `spec()` to retrieve the full column specification for this data.\n",
      "\u001b[36mℹ\u001b[39m Specify the column types or set `show_col_types = FALSE` to quiet this message.\n"
     ]
    }
   ],
   "source": [
    "## --Load Files -------------------------------------------------------------##\n",
    "data_dir <- paste0(working_dir, \"/data/\")\n",
    "\n",
    "numeric_data <- read_csv(paste0(data_dir, \"df_num_2023-10-27.csv\"))\n",
    "text_data <- read_csv(paste0(data_dir, \"df_text_2023-10-27.csv\"))\n"
   ]
  },
  {
   "cell_type": "code",
   "execution_count": 4,
   "metadata": {
    "vscode": {
     "languageId": "r"
    }
   },
   "outputs": [],
   "source": [
    "cleaned_data_text <- text_data[complete.cases(text_data), ]\n",
    "\n",
    "# Get all rows with demo_domain == \"Leisure & Events\"\n",
    "leisure_events_text <- text_data[text_data$demo_domain == \"Leisure & Events\" & !is.na(text_data$demo_domain), ]\n",
    "leisure_events_num <- numeric_data[numeric_data$demo_domain == 2 & !is.na(numeric_data$demo_domain), ]\n"
   ]
  },
  {
   "cell_type": "code",
   "execution_count": 5,
   "metadata": {
    "vscode": {
     "languageId": "r"
    }
   },
   "outputs": [],
   "source": [
    "# Read the values of the column and if all is NA, remove this entire column\n",
    "na_columns <- which(colSums(is.na(leisure_events_text)) == nrow(leisure_events_text))\n",
    "\n",
    "# Remove all columns with NA values\n",
    "leisure_events_text <- leisure_events_text[, -na_columns]\n",
    "leisure_events_num <- leisure_events_num[, -na_columns]\n"
   ]
  },
  {
   "cell_type": "code",
   "execution_count": 6,
   "metadata": {
    "vscode": {
     "languageId": "r"
    }
   },
   "outputs": [],
   "source": [
    "# Columns to exclude\n",
    "leisure_events_text <- leisure_events_text %>% select(-Q3.7:-Q10.9)\n",
    "leisure_events_text <- leisure_events_text %>% select(-G_awareness:-Q4.1)\n",
    "\n",
    "leisure_events_num <- leisure_events_num %>% select(-Q3.7:-Q10.9)\n",
    "leisure_events_num <- leisure_events_num %>% select(-G_awareness:-Q4.1)\n"
   ]
  },
  {
   "cell_type": "code",
   "execution_count": 7,
   "metadata": {
    "vscode": {
     "languageId": "r"
    }
   },
   "outputs": [
    {
     "data": {
      "text/html": [
       "<style>\n",
       ".list-inline {list-style: none; margin:0; padding: 0}\n",
       ".list-inline>li {display: inline-block}\n",
       ".list-inline>li:not(:last-child)::after {content: \"\\00b7\"; padding: 0 .5ex}\n",
       "</style>\n",
       "<ol class=list-inline><li>'StartDate'</li><li>'EndDate'</li><li>'Status'</li><li>'Progress'</li><li>'Duration (in seconds)'</li><li>'Finished'</li><li>'RecordedDate'</li><li>'ResponseId'</li><li>'DistributionChannel'</li><li>'UserLanguage'</li><li>'Q2.2'</li><li>'demo_role'</li><li>'demo_gender'</li><li>'demo_age'</li><li>'demo_domain'</li><li>'demo_year_study'</li><li>'demo_experience'</li><li>'demo_ai_know'</li><li>'ml_dl_famil'</li><li>'aware_dom'</li><li>'ai_courses'</li><li>'aware_everyday'</li><li>'used_ai'</li><li>'att_pos_1'</li><li>'att_pos_2'</li><li>'att_pos_3'</li><li>'att_pos_4'</li><li>'att_neg_1'</li><li>'att_neg_2'</li><li>'att_neg_3'</li><li>'acc_1'</li><li>'acc_2'</li><li>'acc_3'</li><li>'acc_4'</li><li>'acc_5'</li><li>'acc_6'</li><li>'LE_acceptance'</li><li>'LE_ethicalconcern...76'</li><li>'LE_bias...77'</li><li>'LE_ethicalconcern...78'</li><li>'LE_transparency'</li><li>'LE_bias...80'</li><li>'LE_efficacy'</li><li>'LE_fairness'</li><li>'msc_ai_t'</li></ol>\n"
      ],
      "text/latex": [
       "\\begin{enumerate*}\n",
       "\\item 'StartDate'\n",
       "\\item 'EndDate'\n",
       "\\item 'Status'\n",
       "\\item 'Progress'\n",
       "\\item 'Duration (in seconds)'\n",
       "\\item 'Finished'\n",
       "\\item 'RecordedDate'\n",
       "\\item 'ResponseId'\n",
       "\\item 'DistributionChannel'\n",
       "\\item 'UserLanguage'\n",
       "\\item 'Q2.2'\n",
       "\\item 'demo\\_role'\n",
       "\\item 'demo\\_gender'\n",
       "\\item 'demo\\_age'\n",
       "\\item 'demo\\_domain'\n",
       "\\item 'demo\\_year\\_study'\n",
       "\\item 'demo\\_experience'\n",
       "\\item 'demo\\_ai\\_know'\n",
       "\\item 'ml\\_dl\\_famil'\n",
       "\\item 'aware\\_dom'\n",
       "\\item 'ai\\_courses'\n",
       "\\item 'aware\\_everyday'\n",
       "\\item 'used\\_ai'\n",
       "\\item 'att\\_pos\\_1'\n",
       "\\item 'att\\_pos\\_2'\n",
       "\\item 'att\\_pos\\_3'\n",
       "\\item 'att\\_pos\\_4'\n",
       "\\item 'att\\_neg\\_1'\n",
       "\\item 'att\\_neg\\_2'\n",
       "\\item 'att\\_neg\\_3'\n",
       "\\item 'acc\\_1'\n",
       "\\item 'acc\\_2'\n",
       "\\item 'acc\\_3'\n",
       "\\item 'acc\\_4'\n",
       "\\item 'acc\\_5'\n",
       "\\item 'acc\\_6'\n",
       "\\item 'LE\\_acceptance'\n",
       "\\item 'LE\\_ethicalconcern...76'\n",
       "\\item 'LE\\_bias...77'\n",
       "\\item 'LE\\_ethicalconcern...78'\n",
       "\\item 'LE\\_transparency'\n",
       "\\item 'LE\\_bias...80'\n",
       "\\item 'LE\\_efficacy'\n",
       "\\item 'LE\\_fairness'\n",
       "\\item 'msc\\_ai\\_t'\n",
       "\\end{enumerate*}\n"
      ],
      "text/markdown": [
       "1. 'StartDate'\n",
       "2. 'EndDate'\n",
       "3. 'Status'\n",
       "4. 'Progress'\n",
       "5. 'Duration (in seconds)'\n",
       "6. 'Finished'\n",
       "7. 'RecordedDate'\n",
       "8. 'ResponseId'\n",
       "9. 'DistributionChannel'\n",
       "10. 'UserLanguage'\n",
       "11. 'Q2.2'\n",
       "12. 'demo_role'\n",
       "13. 'demo_gender'\n",
       "14. 'demo_age'\n",
       "15. 'demo_domain'\n",
       "16. 'demo_year_study'\n",
       "17. 'demo_experience'\n",
       "18. 'demo_ai_know'\n",
       "19. 'ml_dl_famil'\n",
       "20. 'aware_dom'\n",
       "21. 'ai_courses'\n",
       "22. 'aware_everyday'\n",
       "23. 'used_ai'\n",
       "24. 'att_pos_1'\n",
       "25. 'att_pos_2'\n",
       "26. 'att_pos_3'\n",
       "27. 'att_pos_4'\n",
       "28. 'att_neg_1'\n",
       "29. 'att_neg_2'\n",
       "30. 'att_neg_3'\n",
       "31. 'acc_1'\n",
       "32. 'acc_2'\n",
       "33. 'acc_3'\n",
       "34. 'acc_4'\n",
       "35. 'acc_5'\n",
       "36. 'acc_6'\n",
       "37. 'LE_acceptance'\n",
       "38. 'LE_ethicalconcern...76'\n",
       "39. 'LE_bias...77'\n",
       "40. 'LE_ethicalconcern...78'\n",
       "41. 'LE_transparency'\n",
       "42. 'LE_bias...80'\n",
       "43. 'LE_efficacy'\n",
       "44. 'LE_fairness'\n",
       "45. 'msc_ai_t'\n",
       "\n",
       "\n"
      ],
      "text/plain": [
       " [1] \"StartDate\"              \"EndDate\"                \"Status\"                \n",
       " [4] \"Progress\"               \"Duration (in seconds)\"  \"Finished\"              \n",
       " [7] \"RecordedDate\"           \"ResponseId\"             \"DistributionChannel\"   \n",
       "[10] \"UserLanguage\"           \"Q2.2\"                   \"demo_role\"             \n",
       "[13] \"demo_gender\"            \"demo_age\"               \"demo_domain\"           \n",
       "[16] \"demo_year_study\"        \"demo_experience\"        \"demo_ai_know\"          \n",
       "[19] \"ml_dl_famil\"            \"aware_dom\"              \"ai_courses\"            \n",
       "[22] \"aware_everyday\"         \"used_ai\"                \"att_pos_1\"             \n",
       "[25] \"att_pos_2\"              \"att_pos_3\"              \"att_pos_4\"             \n",
       "[28] \"att_neg_1\"              \"att_neg_2\"              \"att_neg_3\"             \n",
       "[31] \"acc_1\"                  \"acc_2\"                  \"acc_3\"                 \n",
       "[34] \"acc_4\"                  \"acc_5\"                  \"acc_6\"                 \n",
       "[37] \"LE_acceptance\"          \"LE_ethicalconcern...76\" \"LE_bias...77\"          \n",
       "[40] \"LE_ethicalconcern...78\" \"LE_transparency\"        \"LE_bias...80\"          \n",
       "[43] \"LE_efficacy\"            \"LE_fairness\"            \"msc_ai_t\"              "
      ]
     },
     "metadata": {},
     "output_type": "display_data"
    }
   ],
   "source": [
    "names(leisure_events_num)\n"
   ]
  },
  {
   "cell_type": "code",
   "execution_count": 8,
   "metadata": {
    "vscode": {
     "languageId": "r"
    }
   },
   "outputs": [],
   "source": [
    "names(leisure_events_num)[names(leisure_events_num) == \"ml_dl_famil\"] <- \"awa_1\"\n",
    "names(leisure_events_num)[names(leisure_events_num) == \"aware_dom\"] <- \"awa_2\"\n",
    "names(leisure_events_num)[names(leisure_events_num) == \"ai_courses\"] <- \"awa_3\"\n",
    "names(leisure_events_num)[names(leisure_events_num) == \"aware_everyday\"] <- \"awa_4\"\n",
    "names(leisure_events_num)[names(leisure_events_num) == \"used_ai\"] <- \"awa_5\"\n"
   ]
  },
  {
   "cell_type": "code",
   "execution_count": 9,
   "metadata": {
    "vscode": {
     "languageId": "r"
    }
   },
   "outputs": [],
   "source": [
    "# Fix awa_5 values\n",
    "leisure_events_num$acc_5[leisure_events_num$acc_5 == 15] <- 1\n",
    "leisure_events_num$acc_5[leisure_events_num$acc_5 == 16] <- 2\n",
    "leisure_events_num$acc_5[leisure_events_num$acc_5 == 17] <- 3\n",
    "leisure_events_num$acc_5[leisure_events_num$acc_5 == 18] <- 4\n",
    "leisure_events_num$acc_5[leisure_events_num$acc_5 == 19] <- 5\n"
   ]
  },
  {
   "cell_type": "code",
   "execution_count": 10,
   "metadata": {
    "vscode": {
     "languageId": "r"
    }
   },
   "outputs": [],
   "source": [
    "# Replace NAs with 3 (neither agree or disagree)\n",
    "leisure_events_num <- replace(leisure_events_num, is.na(leisure_events_num), \"3\")\n"
   ]
  },
  {
   "cell_type": "code",
   "execution_count": 11,
   "metadata": {
    "vscode": {
     "languageId": "r"
    }
   },
   "outputs": [
    {
     "name": "stderr",
     "output_type": "stream",
     "text": [
      "Warning message:\n",
      "\"\u001b[1m\u001b[22mThere were 7 warnings in `mutate()`.\n",
      "The first warning was:\n",
      "\u001b[1m\u001b[22m\u001b[36mℹ\u001b[39m In argument: `StartDate = .Primitive(\"as.double\")(StartDate)`.\n",
      "Caused by warning:\n",
      "\u001b[33m!\u001b[39m NAs introduced by coercion\n",
      "\u001b[1m\u001b[22m\u001b[36mℹ\u001b[39m Run `dplyr::last_dplyr_warnings()` to see the 6 remaining warnings.\"\n"
     ]
    }
   ],
   "source": [
    "leisure_events_num <- leisure_events_num %>% mutate_all(as.numeric)\n"
   ]
  },
  {
   "cell_type": "code",
   "execution_count": 12,
   "metadata": {
    "vscode": {
     "languageId": "r"
    }
   },
   "outputs": [
    {
     "data": {
      "text/html": [
       "<style>\n",
       ".list-inline {list-style: none; margin:0; padding: 0}\n",
       ".list-inline>li {display: inline-block}\n",
       ".list-inline>li:not(:last-child)::after {content: \"\\00b7\"; padding: 0 .5ex}\n",
       "</style>\n",
       "<ol class=list-inline><li>'StartDate'</li><li>'EndDate'</li><li>'Status'</li><li>'Progress'</li><li>'Duration (in seconds)'</li><li>'Finished'</li><li>'RecordedDate'</li><li>'ResponseId'</li><li>'DistributionChannel'</li><li>'UserLanguage'</li><li>'Q2.2'</li><li>'demo_role'</li><li>'demo_gender'</li><li>'demo_age'</li><li>'demo_domain'</li><li>'demo_year_study'</li><li>'demo_experience'</li><li>'demo_ai_know'</li><li>'awa_1'</li><li>'awa_2'</li><li>'awa_3'</li><li>'awa_4'</li><li>'awa_5'</li><li>'att_pos_1'</li><li>'att_pos_2'</li><li>'att_pos_3'</li><li>'att_pos_4'</li><li>'att_neg_1'</li><li>'att_neg_2'</li><li>'att_neg_3'</li><li>'acc_1'</li><li>'acc_2'</li><li>'acc_3'</li><li>'acc_4'</li><li>'acc_5'</li><li>'acc_6'</li><li>'LE_acceptance'</li><li>'LE_ethicalconcern...76'</li><li>'LE_bias...77'</li><li>'LE_ethicalconcern...78'</li><li>'LE_transparency'</li><li>'LE_bias...80'</li><li>'LE_efficacy'</li><li>'LE_fairness'</li><li>'msc_ai_t'</li></ol>\n"
      ],
      "text/latex": [
       "\\begin{enumerate*}\n",
       "\\item 'StartDate'\n",
       "\\item 'EndDate'\n",
       "\\item 'Status'\n",
       "\\item 'Progress'\n",
       "\\item 'Duration (in seconds)'\n",
       "\\item 'Finished'\n",
       "\\item 'RecordedDate'\n",
       "\\item 'ResponseId'\n",
       "\\item 'DistributionChannel'\n",
       "\\item 'UserLanguage'\n",
       "\\item 'Q2.2'\n",
       "\\item 'demo\\_role'\n",
       "\\item 'demo\\_gender'\n",
       "\\item 'demo\\_age'\n",
       "\\item 'demo\\_domain'\n",
       "\\item 'demo\\_year\\_study'\n",
       "\\item 'demo\\_experience'\n",
       "\\item 'demo\\_ai\\_know'\n",
       "\\item 'awa\\_1'\n",
       "\\item 'awa\\_2'\n",
       "\\item 'awa\\_3'\n",
       "\\item 'awa\\_4'\n",
       "\\item 'awa\\_5'\n",
       "\\item 'att\\_pos\\_1'\n",
       "\\item 'att\\_pos\\_2'\n",
       "\\item 'att\\_pos\\_3'\n",
       "\\item 'att\\_pos\\_4'\n",
       "\\item 'att\\_neg\\_1'\n",
       "\\item 'att\\_neg\\_2'\n",
       "\\item 'att\\_neg\\_3'\n",
       "\\item 'acc\\_1'\n",
       "\\item 'acc\\_2'\n",
       "\\item 'acc\\_3'\n",
       "\\item 'acc\\_4'\n",
       "\\item 'acc\\_5'\n",
       "\\item 'acc\\_6'\n",
       "\\item 'LE\\_acceptance'\n",
       "\\item 'LE\\_ethicalconcern...76'\n",
       "\\item 'LE\\_bias...77'\n",
       "\\item 'LE\\_ethicalconcern...78'\n",
       "\\item 'LE\\_transparency'\n",
       "\\item 'LE\\_bias...80'\n",
       "\\item 'LE\\_efficacy'\n",
       "\\item 'LE\\_fairness'\n",
       "\\item 'msc\\_ai\\_t'\n",
       "\\end{enumerate*}\n"
      ],
      "text/markdown": [
       "1. 'StartDate'\n",
       "2. 'EndDate'\n",
       "3. 'Status'\n",
       "4. 'Progress'\n",
       "5. 'Duration (in seconds)'\n",
       "6. 'Finished'\n",
       "7. 'RecordedDate'\n",
       "8. 'ResponseId'\n",
       "9. 'DistributionChannel'\n",
       "10. 'UserLanguage'\n",
       "11. 'Q2.2'\n",
       "12. 'demo_role'\n",
       "13. 'demo_gender'\n",
       "14. 'demo_age'\n",
       "15. 'demo_domain'\n",
       "16. 'demo_year_study'\n",
       "17. 'demo_experience'\n",
       "18. 'demo_ai_know'\n",
       "19. 'awa_1'\n",
       "20. 'awa_2'\n",
       "21. 'awa_3'\n",
       "22. 'awa_4'\n",
       "23. 'awa_5'\n",
       "24. 'att_pos_1'\n",
       "25. 'att_pos_2'\n",
       "26. 'att_pos_3'\n",
       "27. 'att_pos_4'\n",
       "28. 'att_neg_1'\n",
       "29. 'att_neg_2'\n",
       "30. 'att_neg_3'\n",
       "31. 'acc_1'\n",
       "32. 'acc_2'\n",
       "33. 'acc_3'\n",
       "34. 'acc_4'\n",
       "35. 'acc_5'\n",
       "36. 'acc_6'\n",
       "37. 'LE_acceptance'\n",
       "38. 'LE_ethicalconcern...76'\n",
       "39. 'LE_bias...77'\n",
       "40. 'LE_ethicalconcern...78'\n",
       "41. 'LE_transparency'\n",
       "42. 'LE_bias...80'\n",
       "43. 'LE_efficacy'\n",
       "44. 'LE_fairness'\n",
       "45. 'msc_ai_t'\n",
       "\n",
       "\n"
      ],
      "text/plain": [
       " [1] \"StartDate\"              \"EndDate\"                \"Status\"                \n",
       " [4] \"Progress\"               \"Duration (in seconds)\"  \"Finished\"              \n",
       " [7] \"RecordedDate\"           \"ResponseId\"             \"DistributionChannel\"   \n",
       "[10] \"UserLanguage\"           \"Q2.2\"                   \"demo_role\"             \n",
       "[13] \"demo_gender\"            \"demo_age\"               \"demo_domain\"           \n",
       "[16] \"demo_year_study\"        \"demo_experience\"        \"demo_ai_know\"          \n",
       "[19] \"awa_1\"                  \"awa_2\"                  \"awa_3\"                 \n",
       "[22] \"awa_4\"                  \"awa_5\"                  \"att_pos_1\"             \n",
       "[25] \"att_pos_2\"              \"att_pos_3\"              \"att_pos_4\"             \n",
       "[28] \"att_neg_1\"              \"att_neg_2\"              \"att_neg_3\"             \n",
       "[31] \"acc_1\"                  \"acc_2\"                  \"acc_3\"                 \n",
       "[34] \"acc_4\"                  \"acc_5\"                  \"acc_6\"                 \n",
       "[37] \"LE_acceptance\"          \"LE_ethicalconcern...76\" \"LE_bias...77\"          \n",
       "[40] \"LE_ethicalconcern...78\" \"LE_transparency\"        \"LE_bias...80\"          \n",
       "[43] \"LE_efficacy\"            \"LE_fairness\"            \"msc_ai_t\"              "
      ]
     },
     "metadata": {},
     "output_type": "display_data"
    }
   ],
   "source": [
    "names(leisure_events_num)\n"
   ]
  },
  {
   "cell_type": "code",
   "execution_count": 13,
   "metadata": {
    "vscode": {
     "languageId": "r"
    }
   },
   "outputs": [],
   "source": [
    "# Extract relevant columns\n",
    "metrics <- leisure_events_num[, c(\"demo_role\", \"awa_1\", \"awa_2\", \"awa_3\", \"awa_4\", \"awa_5\", \"acc_1\", \"acc_2\", \"acc_3\", \"acc_4\", \"acc_5\", \"acc_6\", \"att_pos_1\", \"att_pos_2\", \"att_pos_3\", \"att_pos_4\", \"att_neg_1\", \"att_neg_2\", \"att_neg_3\")]\n"
   ]
  },
  {
   "cell_type": "code",
   "execution_count": 14,
   "metadata": {
    "vscode": {
     "languageId": "r"
    }
   },
   "outputs": [],
   "source": [
    "metrics$acc_avg <- rowMeans(metrics[, grepl(\"^acc_\", names(metrics))], na.rm = TRUE)\n",
    "metrics$awa_avg <- rowMeans(metrics[, grepl(\"^awa_\", names(metrics))], na.rm = TRUE)\n",
    "metrics$att_pos_avg <- rowMeans(metrics[, grepl(\"^att_pos_\", names(metrics))], na.rm = TRUE)\n",
    "metrics$att_neg_avg <- rowMeans(metrics[, grepl(\"^att_neg_\", names(metrics))], na.rm = TRUE)\n"
   ]
  },
  {
   "cell_type": "code",
   "execution_count": 15,
   "metadata": {
    "vscode": {
     "languageId": "r"
    }
   },
   "outputs": [],
   "source": [
    "# Filter data for students\n",
    "students <- subset(metrics, demo_role == \"1\")\n",
    "\n",
    "# Filter data for staff\n",
    "staff <- subset(metrics, demo_role != \"1\")\n"
   ]
  },
  {
   "cell_type": "code",
   "execution_count": 16,
   "metadata": {
    "vscode": {
     "languageId": "r"
    }
   },
   "outputs": [],
   "source": [
    "ttest_acc <- t.test(students$acc_avg, staff$acc_avg)\n",
    "ttest_awa <- t.test(students$awa_avg, staff$awa_avg)\n",
    "ttest_att_pos <- t.test(students$att_pos_avg, staff$att_pos_avg)\n",
    "ttest_att_neg <- t.test(students$att_neg_avg, staff$att_neg_avg)\n"
   ]
  },
  {
   "cell_type": "code",
   "execution_count": 17,
   "metadata": {
    "vscode": {
     "languageId": "r"
    }
   },
   "outputs": [
    {
     "data": {
      "text/plain": [
       "\n",
       "\tWelch Two Sample t-test\n",
       "\n",
       "data:  students$acc_avg and staff$acc_avg\n",
       "t = 0.4101, df = 2.2437, p-value = 0.7176\n",
       "alternative hypothesis: true difference in means is not equal to 0\n",
       "95 percent confidence interval:\n",
       " -1.106065  1.367176\n",
       "sample estimates:\n",
       "mean of x mean of y \n",
       " 3.186111  3.055556 \n"
      ]
     },
     "metadata": {},
     "output_type": "display_data"
    }
   ],
   "source": [
    "ttest_acc\n"
   ]
  },
  {
   "cell_type": "code",
   "execution_count": 18,
   "metadata": {
    "vscode": {
     "languageId": "r"
    }
   },
   "outputs": [
    {
     "data": {
      "text/plain": [
       "\n",
       "\tWelch Two Sample t-test\n",
       "\n",
       "data:  students$awa_avg and staff$awa_avg\n",
       "t = -3.1629, df = 2.3467, p-value = 0.0707\n",
       "alternative hypothesis: true difference in means is not equal to 0\n",
       "95 percent confidence interval:\n",
       " -2.0901002  0.1767669\n",
       "sample estimates:\n",
       "mean of x mean of y \n",
       " 2.910000  3.866667 \n"
      ]
     },
     "metadata": {},
     "output_type": "display_data"
    }
   ],
   "source": [
    "ttest_awa\n"
   ]
  },
  {
   "cell_type": "code",
   "execution_count": 19,
   "metadata": {
    "vscode": {
     "languageId": "r"
    }
   },
   "outputs": [
    {
     "data": {
      "text/plain": [
       "\n",
       "\tWelch Two Sample t-test\n",
       "\n",
       "data:  students$att_pos_avg and staff$att_pos_avg\n",
       "t = -0.10628, df = 2.2218, p-value = 0.9242\n",
       "alternative hypothesis: true difference in means is not equal to 0\n",
       "95 percent confidence interval:\n",
       " -1.577067  1.493734\n",
       "sample estimates:\n",
       "mean of x mean of y \n",
       " 3.458333  3.500000 \n"
      ]
     },
     "metadata": {},
     "output_type": "display_data"
    }
   ],
   "source": [
    "ttest_att_pos\n"
   ]
  },
  {
   "cell_type": "code",
   "execution_count": 20,
   "metadata": {
    "vscode": {
     "languageId": "r"
    }
   },
   "outputs": [
    {
     "data": {
      "text/plain": [
       "\n",
       "\tWelch Two Sample t-test\n",
       "\n",
       "data:  students$att_neg_avg and staff$att_neg_avg\n",
       "t = 3.4912, df = 2.1381, p-value = 0.06642\n",
       "alternative hypothesis: true difference in means is not equal to 0\n",
       "95 percent confidence interval:\n",
       " -0.251202  3.406758\n",
       "sample estimates:\n",
       "mean of x mean of y \n",
       " 3.022222  1.444444 \n"
      ]
     },
     "metadata": {},
     "output_type": "display_data"
    }
   ],
   "source": [
    "ttest_att_neg\n"
   ]
  },
  {
   "cell_type": "code",
   "execution_count": 21,
   "metadata": {
    "vscode": {
     "languageId": "r"
    }
   },
   "outputs": [
    {
     "data": {
      "text/html": [
       "<style>\n",
       ".list-inline {list-style: none; margin:0; padding: 0}\n",
       ".list-inline>li {display: inline-block}\n",
       ".list-inline>li:not(:last-child)::after {content: \"\\00b7\"; padding: 0 .5ex}\n",
       "</style>\n",
       "<ol class=list-inline><li>'demo_role'</li><li>'awa_1'</li><li>'awa_2'</li><li>'awa_3'</li><li>'awa_4'</li><li>'awa_5'</li><li>'acc_1'</li><li>'acc_2'</li><li>'acc_3'</li><li>'acc_4'</li><li>'acc_5'</li><li>'acc_6'</li><li>'att_pos_1'</li><li>'att_pos_2'</li><li>'att_pos_3'</li><li>'att_pos_4'</li><li>'att_neg_1'</li><li>'att_neg_2'</li><li>'att_neg_3'</li><li>'acc_avg'</li><li>'awa_avg'</li><li>'att_pos_avg'</li><li>'att_neg_avg'</li></ol>\n"
      ],
      "text/latex": [
       "\\begin{enumerate*}\n",
       "\\item 'demo\\_role'\n",
       "\\item 'awa\\_1'\n",
       "\\item 'awa\\_2'\n",
       "\\item 'awa\\_3'\n",
       "\\item 'awa\\_4'\n",
       "\\item 'awa\\_5'\n",
       "\\item 'acc\\_1'\n",
       "\\item 'acc\\_2'\n",
       "\\item 'acc\\_3'\n",
       "\\item 'acc\\_4'\n",
       "\\item 'acc\\_5'\n",
       "\\item 'acc\\_6'\n",
       "\\item 'att\\_pos\\_1'\n",
       "\\item 'att\\_pos\\_2'\n",
       "\\item 'att\\_pos\\_3'\n",
       "\\item 'att\\_pos\\_4'\n",
       "\\item 'att\\_neg\\_1'\n",
       "\\item 'att\\_neg\\_2'\n",
       "\\item 'att\\_neg\\_3'\n",
       "\\item 'acc\\_avg'\n",
       "\\item 'awa\\_avg'\n",
       "\\item 'att\\_pos\\_avg'\n",
       "\\item 'att\\_neg\\_avg'\n",
       "\\end{enumerate*}\n"
      ],
      "text/markdown": [
       "1. 'demo_role'\n",
       "2. 'awa_1'\n",
       "3. 'awa_2'\n",
       "4. 'awa_3'\n",
       "5. 'awa_4'\n",
       "6. 'awa_5'\n",
       "7. 'acc_1'\n",
       "8. 'acc_2'\n",
       "9. 'acc_3'\n",
       "10. 'acc_4'\n",
       "11. 'acc_5'\n",
       "12. 'acc_6'\n",
       "13. 'att_pos_1'\n",
       "14. 'att_pos_2'\n",
       "15. 'att_pos_3'\n",
       "16. 'att_pos_4'\n",
       "17. 'att_neg_1'\n",
       "18. 'att_neg_2'\n",
       "19. 'att_neg_3'\n",
       "20. 'acc_avg'\n",
       "21. 'awa_avg'\n",
       "22. 'att_pos_avg'\n",
       "23. 'att_neg_avg'\n",
       "\n",
       "\n"
      ],
      "text/plain": [
       " [1] \"demo_role\"   \"awa_1\"       \"awa_2\"       \"awa_3\"       \"awa_4\"      \n",
       " [6] \"awa_5\"       \"acc_1\"       \"acc_2\"       \"acc_3\"       \"acc_4\"      \n",
       "[11] \"acc_5\"       \"acc_6\"       \"att_pos_1\"   \"att_pos_2\"   \"att_pos_3\"  \n",
       "[16] \"att_pos_4\"   \"att_neg_1\"   \"att_neg_2\"   \"att_neg_3\"   \"acc_avg\"    \n",
       "[21] \"awa_avg\"     \"att_pos_avg\" \"att_neg_avg\""
      ]
     },
     "metadata": {},
     "output_type": "display_data"
    }
   ],
   "source": [
    "names(metrics)\n"
   ]
  },
  {
   "cell_type": "markdown",
   "metadata": {},
   "source": [
    "## Linear regression\n"
   ]
  },
  {
   "cell_type": "code",
   "execution_count": 22,
   "metadata": {
    "vscode": {
     "languageId": "r"
    }
   },
   "outputs": [],
   "source": [
    "lr_metrics <- metrics %>% select(\"acc_avg\", \"awa_avg\", \"att_pos_avg\", \"att_neg_avg\")\n"
   ]
  },
  {
   "cell_type": "code",
   "execution_count": 23,
   "metadata": {
    "vscode": {
     "languageId": "r"
    }
   },
   "outputs": [
    {
     "data": {
      "text/plain": [
       "\n",
       "Call:\n",
       "lm(formula = att_pos_avg ~ ., data = lr_metrics)\n",
       "\n",
       "Residuals:\n",
       "     Min       1Q   Median       3Q      Max \n",
       "-1.40358 -0.33410 -0.09346  0.39235  1.26284 \n",
       "\n",
       "Coefficients:\n",
       "            Estimate Std. Error t value Pr(>|t|)    \n",
       "(Intercept)   2.4314     0.5270   4.613 2.18e-05 ***\n",
       "acc_avg       0.6156     0.1515   4.063 0.000145 ***\n",
       "awa_avg      -0.1403     0.1255  -1.118 0.267897    \n",
       "att_neg_avg  -0.1744     0.1132  -1.541 0.128697    \n",
       "---\n",
       "Signif. codes:  0 '***' 0.001 '**' 0.01 '*' 0.05 '.' 0.1 ' ' 1\n",
       "\n",
       "Residual standard error: 0.6158 on 59 degrees of freedom\n",
       "Multiple R-squared:  0.2224,\tAdjusted R-squared:  0.1829 \n",
       "F-statistic: 5.626 on 3 and 59 DF,  p-value: 0.001845\n"
      ]
     },
     "metadata": {},
     "output_type": "display_data"
    }
   ],
   "source": [
    "model <- lm(att_pos_avg ~ ., data = lr_metrics)\n",
    "summary(model)\n"
   ]
  },
  {
   "cell_type": "markdown",
   "metadata": {},
   "source": [
    "_ChatGPT interpretation_:\n",
    "\n",
    "Based on the summary output of the linear regression model, it provides insights into the potential\n",
    "observed predictors (independent variables) for the outcome variable (`att_pos_avg`) of your\n",
    "research questions.\n",
    "\n",
    "The coefficients of the model represent the estimated effects of each predictor variable on the\n",
    "outcome variable. In this case, the significant predictors are `acc_avg`, which has a positive\n",
    "coefficient, and the intercept (constant term). This suggests that as the level of acceptance\n",
    "(`acc_avg`) increases, the average expected value of positive attitude (`att_pos_avg`) also tends to\n",
    "increase.\n",
    "\n",
    "However, the other predictor variables (`awa_avg` and `att_neg_avg`) in the model are not found to\n",
    "be statistically significant based on their p-values. This indicates that there is insufficient\n",
    "evidence to conclude that `awa_avg` and `att_neg_avg` have a significant effect on `att_pos_avg`\n",
    "when considering the other variables in the model.\n",
    "\n",
    "Keep in mind that these results are specific to the dataset and variables used in the model. It's\n",
    "important to interpret the findings within the context of your research question and dataset. It's\n",
    "also worth considering exploring other potential predictors or refining the model based on domain\n",
    "knowledge or relevant literature. Further analysis and additional data may help uncover more\n",
    "accurate potential predictors for your outcome variable.\n"
   ]
  },
  {
   "cell_type": "code",
   "execution_count": 37,
   "metadata": {
    "vscode": {
     "languageId": "r"
    }
   },
   "outputs": [
    {
     "name": "stderr",
     "output_type": "stream",
     "text": [
      "\u001b[1m\u001b[22m`geom_smooth()` using formula = 'y ~ x'\n"
     ]
    },
    {
     "data": {
      "image/png": "[encoded data removed]",
      "text/plain": [
       "plot without title"
      ]
     },
     "metadata": {
      "image/png": {
       "height": 420,
       "width": 420
      }
     },
     "output_type": "display_data"
    }
   ],
   "source": [
    "# Scatter plot for awareness vs. positive attitude\n",
    "cor_awareness <- cor(lr_metrics$awa_avg, lr_metrics$att_pos_avg)\n",
    "\n",
    "ggplot(lr_metrics, aes(x = awa_avg, y = att_pos_avg)) +\n",
    "  geom_point() +\n",
    "  geom_smooth(method = \"lm\") +\n",
    "  labs(x = \"Awareness\", y = \"Positive Attitude\") +\n",
    "  ggtitle(\"Awareness vs. Positive Attitude\") +\n",
    "  geom_text(\n",
    "    x = min(lr_metrics$awa_avg), y = max(lr_metrics$att_pos_avg),\n",
    "    label = paste(\"Correlation =\", round(cor_awareness, 2)), hjust = 0, vjust = 1\n",
    "  )\n"
   ]
  },
  {
   "cell_type": "code",
   "execution_count": 36,
   "metadata": {
    "vscode": {
     "languageId": "r"
    }
   },
   "outputs": [
    {
     "name": "stderr",
     "output_type": "stream",
     "text": [
      "\u001b[1m\u001b[22m`geom_smooth()` using formula = 'y ~ x'\n"
     ]
    },
    {
     "data": {
      "image/png": "[encoded data removed]",
      "text/plain": [
       "plot without title"
      ]
     },
     "metadata": {
      "image/png": {
       "height": 420,
       "width": 420
      }
     },
     "output_type": "display_data"
    }
   ],
   "source": [
    "# Scatter plot for acceptance vs. positive attitude\n",
    "cor_acceptance <- cor(lr_metrics$acc_avg, lr_metrics$att_pos_avg)\n",
    "\n",
    "ggplot(lr_metrics, aes(x = acc_avg, y = att_pos_avg)) +\n",
    "  geom_point() +\n",
    "  geom_smooth(method = \"lm\") +\n",
    "  labs(x = \"Acceptance\", y = \"Positive Attitude\") +\n",
    "  ggtitle(\"Acceptance vs. Positive Attitude\") +\n",
    "  geom_text(\n",
    "    x = min(lr_metrics$acc_avg), y = max(lr_metrics$att_pos_avg),\n",
    "    label = paste(\"Correlation =\", round(cor_acceptance, 2)), hjust = 0, vjust = 1\n",
    "  )\n"
   ]
  },
  {
   "cell_type": "code",
   "execution_count": 38,
   "metadata": {
    "vscode": {
     "languageId": "r"
    }
   },
   "outputs": [
    {
     "name": "stderr",
     "output_type": "stream",
     "text": [
      "\u001b[1m\u001b[22m`geom_smooth()` using formula = 'y ~ x'\n"
     ]
    },
    {
     "data": {
      "image/png": "[encoded data removed]",
      "text/plain": [
       "plot without title"
      ]
     },
     "metadata": {
      "image/png": {
       "height": 420,
       "width": 420
      }
     },
     "output_type": "display_data"
    }
   ],
   "source": [
    "# Scatter plot for attitude vs. positive attitude\n",
    "cor_attitude <- cor(lr_metrics$att_neg_avg, lr_metrics$att_pos_avg)\n",
    "\n",
    "ggplot(lr_metrics, aes(x = att_neg_avg, y = att_pos_avg)) +\n",
    "  geom_point() +\n",
    "  geom_smooth(method = \"lm\") +\n",
    "  labs(x = \"Negative Attitude\", y = \"Positive Attitude\") +\n",
    "  ggtitle(\"Negative Attitude vs. Positive Attitude\") +\n",
    "  geom_text(\n",
    "    x = min(lr_metrics$att_neg_avg), y = max(lr_metrics$att_pos_avg),\n",
    "    label = paste(\"Correlation =\", round(cor_attitude, 2)), hjust = 0, vjust = 1\n",
    "  )\n"
   ]
  }
 ],
 "metadata": {
  "kernelspec": {
   "display_name": "R",
   "language": "R",
   "name": "ir"
  },
  "language_info": {
   "codemirror_mode": "r",
   "file_extension": ".r",
   "mimetype": "text/x-r-source",
   "name": "R",
   "pygments_lexer": "r",
   "version": "4.3.1"
  }
 },
 "nbformat": 4,
 "nbformat_minor": 2
}
